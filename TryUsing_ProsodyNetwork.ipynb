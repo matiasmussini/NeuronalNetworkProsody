{
 "cells": [
  {
   "cell_type": "code",
   "execution_count": 1,
   "metadata": {},
   "outputs": [],
   "source": [
    "import sounddevice as sd\n",
    "from scipy.io.wavfile import write\n",
    "import numpy as np\n",
    "import parselmouth\n",
    "from tensorflow.keras.models import load_model\n",
    "from sincnet_tensorflow import SincConv1D, LayerNorm\n",
    "import os"
   ]
  },
  {
   "cell_type": "markdown",
   "metadata": {},
   "source": [
    "Importar funciones definidas en el modelo para usar SincNet"
   ]
  },
  {
   "cell_type": "code",
   "execution_count": 2,
   "metadata": {},
   "outputs": [],
   "source": [
    "class SincConv1DWithConfig(SincConv1D):\n",
    "    def get_config(self):\n",
    "        # Llama al método get_config de la superclase\n",
    "        config = super(SincConv1DWithConfig, self).get_config()\n",
    "        \n",
    "        # Agrega los parámetros específicos de SincConv1D\n",
    "        config.update({\n",
    "            \"N_filt\": self.N_filt,\n",
    "            \"Filt_dim\": self.Filt_dim,\n",
    "            \"fs\": self.fs,\n",
    "            \"stride\": self.stride,\n",
    "            \"padding\": self.padding,\n",
    "        })\n",
    "        return config\n",
    "    \n",
    "class LayerNormWithConfig(LayerNorm):\n",
    "    def get_config(self):\n",
    "        config = super(LayerNormWithConfig, self).get_config()\n",
    "    \n",
    "        return config"
   ]
  },
  {
   "cell_type": "markdown",
   "metadata": {},
   "source": [
    "Grabación audio y hacer predicción"
   ]
  },
  {
   "cell_type": "code",
   "execution_count": 39,
   "metadata": {},
   "outputs": [
    {
     "name": "stdout",
     "output_type": "stream",
     "text": [
      "Recording for 18.058979166666667 seconds...\n",
      "Recording finished. Saved as recordings\\output_10.wav.\n"
     ]
    }
   ],
   "source": [
    "# Definimos la duración máxima en segundos y el número de muestras correspondientes\n",
    "max_duration = 18.058979166666667\n",
    "max_length = int(max_duration * 48000)  # Frecuencia de muestreo de 48,000 Hz\n",
    "\n",
    "# Función para generar un nombre de archivo único\n",
    "def generate_unique_filename(directory, base_filename):\n",
    "    counter = 1\n",
    "    filename = base_filename + \".wav\"\n",
    "    full_path = os.path.join(directory, filename)\n",
    "    \n",
    "    while os.path.exists(full_path):\n",
    "        filename = f\"{base_filename}_{counter}.wav\"\n",
    "        full_path = os.path.join(directory, filename)\n",
    "        counter += 1\n",
    "    \n",
    "    return full_path\n",
    "\n",
    "# Función para grabar audio en un solo canal (mono) y guardarlo en una carpeta específica\n",
    "def record_audio(duration, sample_rate=48000, output_dir=\"recordings\", base_filename=\"output\"):\n",
    "    # Crear la carpeta si no existe\n",
    "    if not os.path.exists(output_dir):\n",
    "        os.makedirs(output_dir)\n",
    "    \n",
    "    # Generar un nombre de archivo único\n",
    "    file_path = generate_unique_filename(output_dir, base_filename)\n",
    "    \n",
    "    print(f\"Recording for {duration} seconds...\")\n",
    "    audio = sd.rec(int(duration * sample_rate), samplerate=sample_rate, channels=1)  # Mono canal\n",
    "    sd.wait()  # Espera hasta que termine la grabación\n",
    "    \n",
    "    write(file_path, sample_rate, audio)\n",
    "    print(f\"Recording finished. Saved as {file_path}.\")\n",
    "    \n",
    "    return file_path\n",
    "\n",
    "\n",
    "def process_audio(file_path, sample_rate=48000):\n",
    "    # Cargar el archivo de audio con Parselmouth\n",
    "    snd = parselmouth.Sound(file_path)\n",
    "    \n",
    "    # Obtener el array de numpy en mono\n",
    "    audio = snd.values\n",
    "    \n",
    "    audio = audio.flatten()\n",
    "    \n",
    "    return audio\n",
    "\n",
    "\n",
    "# Función para predecir con el modelo\n",
    "def predict(file_path):\n",
    "    # Procesar el audio\n",
    "    audio = process_audio(file_path)\n",
    "    \n",
    "    # Realizar predicciones\n",
    "    predictions = model.predict(np.array([audio]))  # Convertir a un array de numpy con la dimensión adecuada\n",
    "    \n",
    "    # Mostrar los resultados\n",
    "    return predictions, audio\n",
    "\n",
    "# Cargar el modelo guardado\n",
    "model = load_model('ProsodyNet.h5', custom_objects={\n",
    "    'SincConv1DWithConfig': SincConv1DWithConfig,\n",
    "    'LayerNormWithConfig': LayerNormWithConfig\n",
    "})\n",
    "\n",
    "# Grabar el audio y luego predecir\n",
    "audio_path = record_audio(18.058979166666667)\n",
    "predictions, audio = predict(audio_path)\n"
   ]
  },
  {
   "cell_type": "markdown",
   "metadata": {},
   "source": [
    "Devolver diagnosis"
   ]
  },
  {
   "cell_type": "code",
   "execution_count": null,
   "metadata": {},
   "outputs": [],
   "source": [
    "thresholds = [0.7, 0.5, 0.6, 0.45, 0.5, 0.7, 0.4, 0.7, 0.45]\n",
    "\n",
    "# Suponiendo que y_pred tiene las probabilidades predichas (dimensión: [num_samples, 9])\n",
    "y_pred_adjusted = np.zeros_like(predictions)\n",
    "\n",
    "for i in range(predictions.shape[1]):\n",
    "    y_pred_adjusted[:, i] = (predictions[:, i] >= thresholds[i]).astype(int)\n",
    "\n",
    "print(y_pred_adjusted[0])"
   ]
  },
  {
   "cell_type": "markdown",
   "metadata": {},
   "source": [
    "Intento Matías"
   ]
  },
  {
   "cell_type": "code",
   "execution_count": 8,
   "metadata": {},
   "outputs": [
    {
     "data": {
      "text/plain": [
       "array([[7.8686368e-01, 2.0065904e-04, 9.9980760e-01, 9.9892271e-01,\n",
       "        9.9848175e-01, 9.9997497e-01, 9.9990797e-01, 5.2611411e-02,\n",
       "        9.7351021e-01]], dtype=float32)"
      ]
     },
     "execution_count": 8,
     "metadata": {},
     "output_type": "execute_result"
    }
   ],
   "source": [
    "predictions"
   ]
  },
  {
   "cell_type": "code",
   "execution_count": 5,
   "metadata": {},
   "outputs": [],
   "source": [
    "thresholds = [0.7, 0.5, 0.6, 0.45, 0.5, 0.7, 0.4, 0.7, 0.45]\n",
    "\n",
    "# Suponiendo que y_pred tiene las probabilidades predichas (dimensión: [num_samples, 9])\n",
    "y_pred_adjusted = np.zeros_like(predictions)\n",
    "\n",
    "for i in range(predictions.shape[1]):\n",
    "    y_pred_adjusted[:, i] = (predictions[:, i] >= thresholds[i]).astype(int)"
   ]
  },
  {
   "cell_type": "code",
   "execution_count": 7,
   "metadata": {},
   "outputs": [
    {
     "name": "stdout",
     "output_type": "stream",
     "text": [
      "[1. 0. 1. 1. 1. 1. 1. 0. 1.]\n"
     ]
    }
   ],
   "source": [
    "print(y_pred_adjusted[0])"
   ]
  },
  {
   "cell_type": "markdown",
   "metadata": {},
   "source": [
    "Intento google traductor"
   ]
  },
  {
   "cell_type": "code",
   "execution_count": 32,
   "metadata": {},
   "outputs": [
    {
     "data": {
      "text/plain": [
       "array([[3.4164721e-01, 4.0280819e-04, 9.8963487e-01, 9.8712474e-01,\n",
       "        9.7500205e-01, 9.9935776e-01, 9.9600351e-01, 2.8764874e-02,\n",
       "        8.7363249e-01]], dtype=float32)"
      ]
     },
     "execution_count": 32,
     "metadata": {},
     "output_type": "execute_result"
    }
   ],
   "source": [
    "predictions"
   ]
  },
  {
   "cell_type": "code",
   "execution_count": 37,
   "metadata": {},
   "outputs": [],
   "source": [
    "# Suponiendo que y_pred tiene las probabilidades predichas (dimensión: [num_samples, 9])\n",
    "y_pred_adjusted = np.zeros_like(predictions)\n",
    "\n",
    "for i in range(predictions.shape[1]):\n",
    "    y_pred_adjusted[:, i] = (predictions[:, i] >= thresholds[i]).astype(int)"
   ]
  },
  {
   "cell_type": "code",
   "execution_count": 34,
   "metadata": {},
   "outputs": [
    {
     "name": "stdout",
     "output_type": "stream",
     "text": [
      "[0. 0. 1. 1. 1. 1. 1. 0. 1.]\n"
     ]
    }
   ],
   "source": [
    "print(y_pred_adjusted[0])"
   ]
  },
  {
   "cell_type": "code",
   "execution_count": 41,
   "metadata": {},
   "outputs": [
    {
     "name": "stdout",
     "output_type": "stream",
     "text": [
      "Columna 1: 0s = 1218, 1s = 652\n",
      "Columna 2: 0s = 1807, 1s = 63\n",
      "Columna 3: 0s = 1156, 1s = 714\n",
      "Columna 4: 0s = 1128, 1s = 742\n",
      "Columna 5: 0s = 1264, 1s = 606\n",
      "Columna 6: 0s = 1029, 1s = 841\n",
      "Columna 7: 0s = 1358, 1s = 512\n",
      "Columna 8: 0s = 1761, 1s = 109\n",
      "Columna 9: 0s = 1477, 1s = 393\n"
     ]
    }
   ],
   "source": [
    "import pandas as pd\n",
    "\n",
    "# Leer el archivo CSV\n",
    "df = pd.read_csv('data.csv')\n",
    "\n",
    "# Inicializar un diccionario para almacenar los conteos\n",
    "counts = {str(i): {'0': 0, '1': 0} for i in range(1, 10)}\n",
    "\n",
    "# Iterar sobre las columnas que van del 1 al 9\n",
    "for column in df.columns:\n",
    "    if column.isdigit() and 1 <= int(column) <= 9:\n",
    "        # Contar la cantidad de 0s y 1s en la columna actual\n",
    "        counts[column]['0'] = (df[column] == 0).sum()\n",
    "        counts[column]['1'] = (df[column] == 1).sum()\n",
    "\n",
    "# Imprimir los resultados\n",
    "for col, count in counts.items():\n",
    "    print(f\"Columna {col}: 0s = {count['0']}, 1s = {count['1']}\")\n"
   ]
  }
 ],
 "metadata": {
  "kernelspec": {
   "display_name": "Python 3",
   "language": "python",
   "name": "python3"
  },
  "language_info": {
   "codemirror_mode": {
    "name": "ipython",
    "version": 3
   },
   "file_extension": ".py",
   "mimetype": "text/x-python",
   "name": "python",
   "nbconvert_exporter": "python",
   "pygments_lexer": "ipython3",
   "version": "3.9.13"
  }
 },
 "nbformat": 4,
 "nbformat_minor": 2
}
